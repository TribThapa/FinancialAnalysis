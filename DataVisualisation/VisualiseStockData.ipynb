{
 "cells": [
  {
   "cell_type": "markdown",
   "id": "0bce8a99",
   "metadata": {},
   "source": [
    "## This notebook presents different ways to present and interpret stock data\n",
    "<br/> <br/>\n",
    "#### To make the most of this notebook copy the github link above and follow the prompts to notebook viewer here: https://www.tutorialspoint.com/jupyter/sharing_jupyter_notebook_using_github_and_nbviewer.htm\n",
    "#### Make sure you click the 'binder' button on nbviewer to interact with the plots\n",
    "\n"
   ]
  },
  {
   "cell_type": "code",
   "execution_count": null,
   "id": "8041113e",
   "metadata": {},
   "outputs": [],
   "source": [
    "# Import generic system packages for data manipulation \n",
    "import os\n",
    "import pandas as pd\n",
    "import numpy as np\n",
    "import datetime as dt\n",
    "import numpy as np\n",
    "\n",
    "# Import packages for plots\n",
    "import matplotlib.pyplot as plt \n",
    "import panel as pn\n",
    "import alpaca_trade_api as tradeapi\n",
    "from dotenv import load_dotenv\n",
    "\n",
    "# Import packages for data visualisation\n",
    "import mplfinance as mpf\n",
    "from dotenv import load_dotenv\n",
    "import cufflinks as cf\n",
    "from IPython.display import display\n",
    "pn.extension('plotly')\n",
    "import plotly.express as px\n",
    "import hvplot.pandas\n",
    "import holoviews as hv\n",
    "import seaborn as sns\n",
    "\n",
    "# Activate set up\n",
    "load_dotenv()     \n",
    "%matplotlib inline \n",
    "cf.set_config_file(theme='solar',sharing='public',offline=True) #List of Cufflinks Themes :  ['ggplot', 'pearl', 'solar', 'space', 'white', 'polar', 'henanigans']\n"
   ]
  },
  {
   "cell_type": "markdown",
   "id": "2a1fdfed",
   "metadata": {},
   "source": [
    "### Get stock data"
   ]
  },
  {
   "cell_type": "code",
   "execution_count": null,
   "id": "0c953283",
   "metadata": {},
   "outputs": [],
   "source": [
    "#Read in alpaca keys and set up API call\n",
    "alpaca_key = os.getenv('ALPACA_API_KEY')\n",
    "alpaca_secret_key = os.getenv('ALPACA_API_SECRET_KEY')\n",
    "api = tradeapi.REST(alpaca_key, \n",
    "                    alpaca_secret_key,\n",
    "                    api_version='V2')\n",
    "\n",
    "#Define variables\n",
    "tickers = ['GOOG', 'FB', 'AMZN', 'AAPL', 'TSLA']\n",
    "\n",
    "tf = '1D'\n",
    "\n",
    "start_date = pd.Timestamp('2018-1-1', tz='America/New_York').isoformat()\n",
    "\n",
    "end_date = pd.Timestamp('2021-1-1', tz='America/New_York').isoformat()\n",
    "\n",
    "wt = [0.25, 0.25, 0.25, 0.25]\n",
    "\n",
    "num_sim = 100\n",
    "\n",
    "num_trade_days=252*2\n",
    "\n",
    "#Define parameters to get stock data from Alpaca api\n",
    "tickers_df = api.get_barset(tickers, timeframe=tf, start=start_date, end=end_date, limit=1000).df\n",
    "\n",
    "#Define paramters to run Monte-Carlo Simulation\n",
    "close_prices = tickers_df.loc(axis=1)[:,'close']\n",
    "\n",
    "daily_returns = close_prices.pct_change().dropna()\n",
    "#print(f\"daily ret shape: {daily_returns.shape}\")\n",
    "\n",
    "correlation = daily_returns.corr()\n",
    "\n",
    "portfolio_cum_return = (1+daily_returns).cumprod()  \n",
    "#print(f\"Cum ret shape: {portfolio_cum_return.shape}\")\n",
    "\n",
    "roll_std = daily_returns.rolling(window=5).std()\n",
    "#print(f\"Roll std shape: {roll_std.shape}\")\n",
    "\n",
    "sharpe_ratio = (daily_returns.mean()*252) / (daily_returns.std()*np.sqrt(252))\n",
    "#print(f\"Sharpe ratio shape: {sharpe_ratio.shape}\")\n"
   ]
  },
  {
   "cell_type": "markdown",
   "id": "3e491780",
   "metadata": {},
   "source": [
    "### Present OHLC data using candlesticks"
   ]
  },
  {
   "cell_type": "code",
   "execution_count": null,
   "id": "8d961eb6",
   "metadata": {},
   "outputs": [],
   "source": [
    "# Let's use Googole's and Facebook's OHLC \n",
    "ohlc1 = tickers_df[\"GOOG\"]\n",
    "\n",
    "ohlc_plot1 = ohlc1.iplot(kind='candle',\n",
    "                         title='2018 - 2021 stock OHLC movement - Google',\n",
    "                         yTitle='Price',\n",
    "                         keys=True)\n",
    "\n",
    "\n",
    "ohlc2 = tickers_df[\"FB\"]\n",
    "ohlc_plot2 = ohlc2.iplot(kind='candle',\n",
    "                         title='2018 - 2021 stock OHLC movement - Facebook',\n",
    "                         yTitle='Price',\n",
    "                         keys=True)"
   ]
  },
  {
   "cell_type": "code",
   "execution_count": null,
   "id": "bc21bd9a",
   "metadata": {},
   "outputs": [],
   "source": [
    "mpf_plot = mpf.plot(ohlc1,\n",
    "                    type='candle',\n",
    "                    mav=(10, 15, 20),\n",
    "                    volume=True,\n",
    "                    style='mike',\n",
    "                    title=\"Google OHLC\",\n",
    "                    warn_too_much_data=5000)\n",
    "\n",
    "mpf_plot = mpf.plot(ohlc2,\n",
    "                    type='candle',\n",
    "                    mav=(10, 15, 20),\n",
    "                    volume=True,\n",
    "                    style='mike',\n",
    "                    title= \"Facebook OHLC\",\n",
    "                    warn_too_much_data=5000)"
   ]
  },
  {
   "cell_type": "markdown",
   "id": "3adfdf5e",
   "metadata": {},
   "source": [
    "### Plot rolling standard deviations as line plots"
   ]
  },
  {
   "cell_type": "code",
   "execution_count": null,
   "id": "3dc13f79",
   "metadata": {},
   "outputs": [],
   "source": [
    "# Format dataframe\n",
    "roll_std.columns = roll_std.columns.droplevel(1)\n",
    "roll_std.dropna(inplace=True)\n",
    "roll_std.head()"
   ]
  },
  {
   "cell_type": "code",
   "execution_count": null,
   "id": "052913a8",
   "metadata": {},
   "outputs": [],
   "source": [
    "#Use hv.plot()\n",
    "roll_std.hvplot(title=\"5-day rolling standard deviation\",\n",
    "                width=1200,\n",
    "                height=500)"
   ]
  },
  {
   "cell_type": "code",
   "execution_count": null,
   "id": "692792c0",
   "metadata": {},
   "outputs": [],
   "source": [
    "#Use cufflinks' iplot\n",
    "roll_std.iplot(kind='line',\n",
    "               fill=True,\n",
    "               yTitle='Standard deviation')"
   ]
  },
  {
   "cell_type": "markdown",
   "id": "15a71dae",
   "metadata": {},
   "source": [
    "### Plot rolling standard deviations as line plots"
   ]
  },
  {
   "cell_type": "code",
   "execution_count": null,
   "id": "f2eb4529",
   "metadata": {},
   "outputs": [],
   "source": [
    "portfolio_cum_return.columns = portfolio_cum_return.columns.droplevel(1)\n",
    "portfolio_cum_return.dropna(inplace=True)\n",
    "portfolio_cum_return.head()"
   ]
  },
  {
   "cell_type": "code",
   "execution_count": null,
   "id": "eb932036",
   "metadata": {},
   "outputs": [],
   "source": [
    "# Using hvplot\n",
    "AAPL_hvplot = portfolio_cum_return[[\"AAPL\"]].hvplot(x='Time (years)',\n",
    "                                                    color='red',\n",
    "                                                    label=\"AAPL\")\n",
    "\n",
    "\n",
    "\n",
    "AMZN_hvplot = portfolio_cum_return[[\"AMZN\"]].hvplot(x='Time (years)',\n",
    "                                                    color='blue',\n",
    "                                                    label=\"AMZN\")\n",
    "\n",
    "\n",
    "FB_hvplot = portfolio_cum_return[[\"FB\"]].hvplot(x='Time (years)',\n",
    "                                                color='black',\n",
    "                                                label=\"FB\")\n",
    "\n",
    "\n",
    "GOOG_hvplot = portfolio_cum_return[[\"GOOG\"]].hvplot(x='Time (years)',\n",
    "                                                    color='green',\n",
    "                                                    label=\"GOOG\")\n",
    "                                                  \n",
    "\n",
    "TSLA_hvplot = portfolio_cum_return[[\"TSLA\"]].hvplot(x='Time (years)',\n",
    "                                                    color='yellow',\n",
    "                                                    label=\"TSLA\")\n",
    "\n",
    "comb = (AAPL_hvplot * AMZN_hvplot * FB_hvplot * GOOG_hvplot * TSLA_hvplot).opts(legend_position='right',\n",
    "                                                                                width=1200,\n",
    "                                                                                height=400)\n",
    "comb"
   ]
  },
  {
   "cell_type": "code",
   "execution_count": null,
   "id": "bdda2262",
   "metadata": {},
   "outputs": [],
   "source": [
    "daily_returns.columns = daily_returns.columns.droplevel(1)\n",
    "daily_returns.dropna(inplace=True)\n",
    "daily_returns.head()"
   ]
  },
  {
   "cell_type": "code",
   "execution_count": null,
   "id": "56e46f2d",
   "metadata": {},
   "outputs": [],
   "source": [
    "# Plot cumulative returns\n",
    "# Calculate weighted returns (equal weighting)\n",
    "aapl_returns = daily_returns['AAPL'] * 0.2\n",
    "amzn_returns = daily_returns['AMZN'] * 0.2\n",
    "fb_returns = daily_returns['FB'] * 0.2\n",
    "goog_returns = daily_returns['GOOG'] * 0.2\n",
    "tsla_returns = daily_returns['TSLA'] * 0.2\n",
    "\n",
    "# Calculate cumulative returns of all portfolios\n",
    "cumlative_returns_aapl = (1+aapl_returns).cumprod()\n",
    "cumlative_returns_amzn = (1+amzn_returns).cumprod()\n",
    "cumlative_returns_fb = (1+fb_returns).cumprod()\n",
    "cumlative_returns_goog = (1+goog_returns).cumprod()\n",
    "cumlative_returns_tsla = (1+tsla_returns).cumprod()\n",
    "\n",
    "# Plot cumulative returns\n",
    "plot1 = cumlative_returns_aapl.plot(figsize=(10, 7), color='y', linestyle='dashed', title='Comparing all stocks')\n",
    "cumlative_returns_amzn.plot(ax=plot1, color='r', linestyle='dotted', alpha=0.9)\n",
    "cumlative_returns_fb.plot(ax=plot1, color='g', linestyle='dashdot', alpha=0.8)\n",
    "cumlative_returns_goog.plot(ax=plot1, color='b', linestyle='dotted', alpha=0.7)\n",
    "cumlative_returns_tsla.plot(ax=plot1, color='m', linestyle='dotted', alpha=0.6)\n",
    "\n",
    "plot1.legend(['AAPL', 'AMZN', 'FB', 'GOOG', 'TSLA'])\n",
    "plot1.set_xlabel('Year')\n",
    "plot1.set_ylabel('Cumulative returns')"
   ]
  },
  {
   "cell_type": "code",
   "execution_count": null,
   "id": "f105ea68",
   "metadata": {},
   "outputs": [],
   "source": [
    "#Using cuff links\n",
    "portfolio_cum_return.iplot(kind='line',\n",
    "                           fill=True,\n",
    "                           yTitle=\"Cumulative returns\")"
   ]
  },
  {
   "cell_type": "markdown",
   "id": "d4735633",
   "metadata": {},
   "source": [
    "### Plotting correlations"
   ]
  },
  {
   "cell_type": "code",
   "execution_count": null,
   "id": "addfde1c",
   "metadata": {},
   "outputs": [],
   "source": [
    "correlation.index = correlation.index.droplevel(1)\n",
    "correlation.columns = correlation.columns.droplevel(1)\n",
    "correlation"
   ]
  },
  {
   "cell_type": "code",
   "execution_count": null,
   "id": "03896062",
   "metadata": {},
   "outputs": [],
   "source": [
    "#Using iplot() (https://stackoverflow.com/questions/42310243/cufflinks-how-to-set-upper-and-lower-value-for-the-colorscale)\n",
    "correlation.iplot(kind='heatmap',\n",
    "                  mode='markers',\n",
    "                  title=\"Correlation plot\",\n",
    "                  colorscale='spectral')"
   ]
  },
  {
   "cell_type": "code",
   "execution_count": null,
   "id": "be04174d",
   "metadata": {},
   "outputs": [],
   "source": [
    "# Usign hvplot\n",
    "heatmap_plot = correlation.hvplot.heatmap(ymarks_hover_color='cyan',\n",
    "                                          hover_color='cyan',\n",
    "                                          alpha=0.9,\n",
    "                                          colorbar=True,\n",
    "                                          cmap='bjy')\n",
    "\n",
    "heatmap_plot"
   ]
  },
  {
   "cell_type": "code",
   "execution_count": null,
   "id": "9cf07bc8",
   "metadata": {},
   "outputs": [],
   "source": [
    "# Using Seaborn\n",
    "matrix = np.triu(correlation)\n",
    "cmap = sns.diverging_palette(230, 20, as_cmap=True)\n",
    "h = plt.axes()\n",
    "\n",
    "plot = sns.heatmap(correlation, \n",
    "                   vmin=-1, \n",
    "                   vmax=1, \n",
    "                   annot=True,\n",
    "                   cmap=cmap, \n",
    "                   mask=matrix)\n",
    "\n",
    "\n",
    "sns.set(rc={'figure.figsize':(10,7)})\n",
    "h.set_title('Correlation')"
   ]
  },
  {
   "cell_type": "code",
   "execution_count": null,
   "id": "0372ac59",
   "metadata": {},
   "outputs": [],
   "source": []
  }
 ],
 "metadata": {
  "kernelspec": {
   "display_name": "Python [conda env:pyvizenv] *",
   "language": "python",
   "name": "conda-env-pyvizenv-py"
  },
  "language_info": {
   "codemirror_mode": {
    "name": "ipython",
    "version": 3
   },
   "file_extension": ".py",
   "mimetype": "text/x-python",
   "name": "python",
   "nbconvert_exporter": "python",
   "pygments_lexer": "ipython3",
   "version": "3.7.10"
  }
 },
 "nbformat": 4,
 "nbformat_minor": 5
}
