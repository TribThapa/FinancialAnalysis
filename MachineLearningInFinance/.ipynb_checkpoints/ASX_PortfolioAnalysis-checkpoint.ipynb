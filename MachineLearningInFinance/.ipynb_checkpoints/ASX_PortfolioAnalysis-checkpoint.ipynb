{
 "cells": [
  {
   "cell_type": "code",
   "execution_count": null,
   "id": "46b5be51",
   "metadata": {},
   "outputs": [],
   "source": [
    "import pandas as pd\n",
    "import pandas_datareader as web"
   ]
  },
  {
   "cell_type": "code",
   "execution_count": null,
   "id": "7bef11d0",
   "metadata": {},
   "outputs": [],
   "source": [
    "# List stock data\n",
    "stonks = [\"CBA\", \"CSL\", \"BHP\", \"WBC\", \"NAB\", \"ANZ\", \"FMG\", \"WES\", \"MQG\", \"WOW\", \"RIO\", \"TLS\", \"TCL\", \"GMG\", \"APT\", \"ALL\", \"REA\", \"WPL\"]\n",
    "\n",
    "# Create list to append stock info. \n",
    "stonks_list = []\n",
    "\n",
    "# Create for-loop for your stocks\n",
    "for i in stonks:\n",
    "    df = web.DataReader(f\"{i}.AX\", \n",
    "                        data_source=\"yahoo\",\n",
    "                        start=\"2018-01-01\",\n",
    "                        end=\"2021-06-18\")\n",
    "    close_df = df[\"Close\"]\n",
    "    \n",
    "    stonks_list.append(close_df)\n",
    "\n",
    "\n",
    "\n",
    "# Convert stonks info to dataframe\n",
    "stonks_df = pd.DataFrame(stonks_list)\n",
    "stonks_transp_df = stonks_df.T\n",
    "stonks_transp_df.columns = stonks\n",
    "stonks_transp_df.head(10)"
   ]
  },
  {
   "cell_type": "code",
   "execution_count": null,
   "id": "916172d7",
   "metadata": {},
   "outputs": [],
   "source": [
    "stonks_transp_df.tail(10)"
   ]
  },
  {
   "cell_type": "code",
   "execution_count": null,
   "id": "e12be09a",
   "metadata": {},
   "outputs": [],
   "source": []
  }
 ],
 "metadata": {
  "kernelspec": {
   "display_name": "Python [conda env:root]",
   "language": "python",
   "name": "conda-root-py"
  },
  "language_info": {
   "codemirror_mode": {
    "name": "ipython",
    "version": 3
   },
   "file_extension": ".py",
   "mimetype": "text/x-python",
   "name": "python",
   "nbconvert_exporter": "python",
   "pygments_lexer": "ipython3",
   "version": "3.8.8"
  }
 },
 "nbformat": 4,
 "nbformat_minor": 5
}
