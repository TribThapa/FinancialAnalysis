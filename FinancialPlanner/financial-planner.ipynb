{
 "cells": [
  {
   "cell_type": "markdown",
   "metadata": {},
   "source": [
    "# Unit 5 - Financial Planning"
   ]
  },
  {
   "cell_type": "code",
   "execution_count": null,
   "metadata": {},
   "outputs": [],
   "source": [
    "# Initial imports\n",
    "import os\n",
    "import json\n",
    "import requests\n",
    "import pandas as pd\n",
    "from dotenv import load_dotenv\n",
    "import alpaca_trade_api as tradeapi\n",
    "from MCForecastTools import MCSimulation\n",
    "\n",
    "%matplotlib inline"
   ]
  },
  {
   "cell_type": "code",
   "execution_count": null,
   "metadata": {},
   "outputs": [],
   "source": [
    "# Load .env enviroment variables\n",
    "load_dotenv()"
   ]
  },
  {
   "cell_type": "markdown",
   "metadata": {},
   "source": [
    "## Part 1 - Personal Finance Planner"
   ]
  },
  {
   "cell_type": "markdown",
   "metadata": {},
   "source": [
    "### Collect Crypto Prices Using the `requests` Library"
   ]
  },
  {
   "cell_type": "code",
   "execution_count": null,
   "metadata": {},
   "outputs": [],
   "source": [
    "# Set current amount of crypto assets\n",
    "my_btc = 1.2\n",
    "my_eth = 5.3"
   ]
  },
  {
   "cell_type": "code",
   "execution_count": null,
   "metadata": {},
   "outputs": [],
   "source": [
    "# Crypto API URLs\n",
    "btc_url = \"https://api.alternative.me/v2/ticker/Bitcoin/?convert=CAD\"\n",
    "eth_url = \"https://api.alternative.me/v2/ticker/Ethereum/?convert=CAD\""
   ]
  },
  {
   "cell_type": "code",
   "execution_count": null,
   "metadata": {},
   "outputs": [],
   "source": [
    "# Fetch current BTC price\n",
    "btc_response = requests.get(btc_url).json()\n",
    "#print(json.dumps(btc_response, indent=4, sort_keys=True))\n",
    "\n",
    "btc_price = btc_response[\"data\"][\"1\"][\"quotes\"][\"CAD\"][\"price\"]\n",
    "print(f\"BTC's current price is {btc_price}\")\n",
    "print()\n",
    "\n",
    "\n",
    "# Fetch current ETH price\n",
    "eth_response = requests.get(eth_url).json()\n",
    "#print(json.dumps(eth_response, indent=4, sort_keys=True))\n",
    "\n",
    "eth_price = eth_response[\"data\"][\"1027\"][\"quotes\"][\"CAD\"][\"price\"]\n",
    "print(f\"ETH's current price is {eth_price}\")\n",
    "print()\n",
    "\n",
    "\n",
    "# Compute current value of my crpto\n",
    "btc_wallet_value = my_btc * btc_price\n",
    "eth_wallet_vale = my_eth * eth_price\n",
    "\n",
    "total_crypto_value = btc_wallet_value + eth_wallet_vale\n",
    "\n",
    "# Print current crypto wallet balance\n",
    "print(f\"The current value of my {my_btc} BTC is ${btc_wallet_value:0.2f} in Canadian Dollars.\")\n",
    "print()\n",
    "print(f\"The current value of my {my_eth} ETH is ${eth_wallet_vale:0.2f} in Canadian Dollars.\")\n",
    "print()\n",
    "print(f\"The current value of my crypto wallet is ${total_crypto_value:0.2f} in Canadian Dollars.\")"
   ]
  },
  {
   "cell_type": "markdown",
   "metadata": {},
   "source": [
    "### Collect Investments Data Using Alpaca: `SPY` (stocks) and `AGG` (bonds)"
   ]
  },
  {
   "cell_type": "code",
   "execution_count": null,
   "metadata": {},
   "outputs": [],
   "source": [
    "# Set current amount of shares\n",
    "my_agg = 200\n",
    "my_spy = 50"
   ]
  },
  {
   "cell_type": "code",
   "execution_count": null,
   "metadata": {},
   "outputs": [],
   "source": [
    "# Set Alpaca API key and secret\n",
    "alpaca_key = os.getenv(\"ALPACA_API_KEY\")\n",
    "alpaca_secret_key = os.getenv(\"ALPACA_API_SECRET_KEY\")\n",
    "\n",
    "# Create the Alpaca API object\n",
    "api = tradeapi.REST(alpaca_key, alpaca_secret_key, api_version=\"V2\")"
   ]
  },
  {
   "cell_type": "code",
   "execution_count": null,
   "metadata": {},
   "outputs": [],
   "source": [
    "# Format current date as ISO format\n",
    "current_date = pd.Timestamp('2021-6-11', tz='America/New_York').isoformat()\n",
    "print(f\"Today's date formatted in ISO format is {current_date}.\")\n",
    "\n",
    "# Set the tickers\n",
    "tickers = [\"AGG\", \"SPY\"]\n",
    "\n",
    "# Set timeframe to '1D' for Alpaca API\n",
    "timeframe = \"1D\"\n",
    "\n",
    "# Get current closing prices for SPY and AGG. Use a limit=1000 parameter to call the most recent 1000 days of data.\n",
    "agg_spy_df = api.get_barset(tickers, timeframe=timeframe, limit=1000).df\n",
    "\n",
    "# Preview DataFrame\n",
    "agg_spy_df.tail()"
   ]
  },
  {
   "cell_type": "code",
   "execution_count": null,
   "metadata": {},
   "outputs": [],
   "source": [
    "# Pick AGG and SPY close prices\n",
    "agg_close_price = agg_spy_df[\"AGG\"][\"close\"]\n",
    "#agg_close\n",
    "\n",
    "spy_close_price = agg_spy_df[\"SPY\"][\"close\"]\n",
    "#spy_close\n",
    "\n",
    "# Print AGG and SPY close prices\n",
    "print(f\"Current AGG closing price: ${agg_close_price}\")\n",
    "print(f\"Current SPY closing price: ${spy_close_price}\")"
   ]
  },
  {
   "cell_type": "code",
   "execution_count": null,
   "metadata": {},
   "outputs": [],
   "source": [
    "# Compute the current value of shares\n",
    "last_close_agg = agg_spy_df[\"AGG\"][\"close\"].iloc[-1]\n",
    "print(f\"The last close price for AGG is ${last_close_agg}.\")\n",
    "print()\n",
    "\n",
    "last_close_spy = agg_spy_df[\"SPY\"][\"close\"].iloc[-1]\n",
    "print(f\"The last close price for SPY is ${last_close_spy}.\")\n",
    "print()\n",
    "\n",
    "curr_val_agg = my_agg * last_close_agg\n",
    "curr_val_spy = my_spy * last_close_spy\n",
    "\n",
    "total_shares_value = curr_val_agg + curr_val_spy\n",
    "\n",
    "# Print current value of shares\n",
    "print(f\"The current value of your {my_agg} AGG shares is ${curr_val_agg:0.2f}\")\n",
    "print()\n",
    "print(f\"The current value of your {my_spy} SPY shares is ${curr_val_spy:0.2f}\")\n",
    "print()\n",
    "print(f\"The total shares value is ${total_shares_value:0.2f}\")"
   ]
  },
  {
   "cell_type": "markdown",
   "metadata": {},
   "source": [
    "### Savings Health Analysis"
   ]
  },
  {
   "cell_type": "code",
   "execution_count": null,
   "metadata": {},
   "outputs": [],
   "source": [
    "# Set monthly household income\n",
    "monthly_income = 12000\n",
    "\n",
    "# Consolidate financial assets data\n",
    "financial_assets = {\n",
    "    'src': ['cyrpto', 'shares'],\n",
    "    'amt': [total_crypto_value, total_shares_value]}\n",
    "\n",
    "# Create savings DataFrame\n",
    "df_savings = pd.DataFrame(financial_assets)\n",
    "\n",
    "df_savings = df_savings.set_index('src')\n",
    "\n",
    "# Display savings DataFrame\n",
    "df_savings.head()"
   ]
  },
  {
   "cell_type": "code",
   "execution_count": null,
   "metadata": {},
   "outputs": [],
   "source": [
    "# Plot savings pie chart\n",
    "pie_plot = df_savings.plot.pie(y='amt', figsize=(10,7))"
   ]
  },
  {
   "cell_type": "code",
   "execution_count": null,
   "metadata": {},
   "outputs": [],
   "source": [
    "# Set ideal emergency fund\n",
    "emergency_fund = monthly_income * 3\n",
    "print(f\"The emergency fund you need is ${emergency_fund}.\")\n",
    "print()\n",
    "\n",
    "# Calculate total amount of savings\n",
    "total_savings = total_crypto_value + total_shares_value\n",
    "print(f\"Your total savings is ${total_savings:0.2f}.\")\n",
    "print()\n",
    "\n",
    "# Validate saving health\n",
    "if total_savings > emergency_fund:\n",
    "    print(f\"Contragulations on having enough in your emergency fund.\")\n",
    "elif total_savings == emergency_fund:\n",
    "    print(f\"Congratulations on being able to save to your emergency fund amount.\")\n",
    "elif total_savings < emergency_fund:\n",
    "    print(f\"You are ${emergency_fund - total_savings} short on your emergency fund.\")"
   ]
  },
  {
   "cell_type": "markdown",
   "metadata": {},
   "source": [
    "## Part 2 - Retirement Planning\n",
    "\n",
    "### Monte Carlo Simulation"
   ]
  },
  {
   "cell_type": "code",
   "execution_count": null,
   "metadata": {},
   "outputs": [],
   "source": [
    "# Set start and end dates of five years back from today. Sample results may vary from the solution based on the time frame chosen\n",
    "start_date = pd.Timestamp('2016-06-11', tz='America/New_York').isoformat()\n",
    "end_date = pd.Timestamp('2021-06-11', tz='America/New_York').isoformat()"
   ]
  },
  {
   "cell_type": "code",
   "execution_count": null,
   "metadata": {},
   "outputs": [],
   "source": [
    "# Get 5 years' worth of historical data for SPY and AGG. Use a limit=1000 parameter to call the most recent 1000 days of data.\n",
    "sym = ['AGG', 'SPY']\n",
    "\n",
    "tf = '1D'\n",
    "\n",
    "df_stock_data = api.get_barset(sym, timeframe=tf, start=start_date, end=end_date, limit=1000).df\n",
    "\n",
    "# Display sample data\n",
    "df_stock_data.head()"
   ]
  },
  {
   "cell_type": "code",
   "execution_count": null,
   "metadata": {},
   "outputs": [],
   "source": [
    "# Configuring a Monte Carlo simulation to forecast 30 years cumulative returns\n",
    "MC_agg_spy = MCSimulation(portfolio_data=df_stock_data, weights=[0.6, 0.4], num_simulation=500, num_trading_days=30*252)"
   ]
  },
  {
   "cell_type": "code",
   "execution_count": null,
   "metadata": {},
   "outputs": [],
   "source": [
    "# Printing the simulation input data\n",
    "MC_agg_spy.portfolio_data.head()"
   ]
  },
  {
   "cell_type": "code",
   "execution_count": null,
   "metadata": {},
   "outputs": [],
   "source": [
    "# Running a Monte Carlo simulation to forecast 30 years cumulative returns\n",
    "MC_agg_spy.calc_cumulative_return()"
   ]
  },
  {
   "cell_type": "code",
   "execution_count": null,
   "metadata": {},
   "outputs": [],
   "source": [
    "# Plot simulation outcomes\n",
    "MC_agg_spy_line = MC_agg_spy.plot_simulation()\n",
    "\n",
    "MC_agg_spy_line.get_figure().savefig('MC_agg_spy_simplot.png', bbox_inches='tight')"
   ]
  },
  {
   "cell_type": "code",
   "execution_count": null,
   "metadata": {},
   "outputs": [],
   "source": [
    "# Plot probability distribution and confidence intervals\n",
    "MC_agg_spy_dist = MC_agg_spy.plot_distribution()\n",
    "\n",
    "MC_agg_spy_dist.get_figure().savefig('MC_agg_spy_distplot.png', bbox_inches='tight')"
   ]
  },
  {
   "cell_type": "markdown",
   "metadata": {},
   "source": [
    "### Retirement Analysis"
   ]
  },
  {
   "cell_type": "code",
   "execution_count": null,
   "metadata": {},
   "outputs": [],
   "source": [
    "# Fetch summary statistics from the Monte Carlo simulation results\n",
    "MC_agg_spy_summary = MC_agg_spy.summarize_cumulative_return()\n",
    "\n",
    "# Print summary statistics\n",
    "print(MC_agg_spy_summary)"
   ]
  },
  {
   "cell_type": "markdown",
   "metadata": {},
   "source": [
    "### Calculate the expected portfolio return at the `95%` lower and upper confidence intervals based on a `$20,000` initial investment."
   ]
  },
  {
   "cell_type": "code",
   "execution_count": null,
   "metadata": {},
   "outputs": [],
   "source": [
    "# Set initial investment\n",
    "initial_investment = 20000\n",
    "\n",
    "# Use the lower and upper `95%` confidence intervals to calculate the range of the possible outcomes of our $20,000\n",
    "ci_lower = round(MC_agg_spy_summary[8] * initial_investment, 2)\n",
    "ci_upper = round(MC_agg_spy_summary[9] * initial_investment, 2)\n",
    "\n",
    "# Print results\n",
    "print(f\"There is a 95% chance that an initial investment of ${initial_investment} in the portfolio\"\n",
    "      f\" over the next 30 years will end within the range of ${ci_lower} and ${ci_upper}\")"
   ]
  },
  {
   "cell_type": "markdown",
   "metadata": {},
   "source": [
    "### Calculate the expected portfolio return at the `95%` lower and upper confidence intervals based on a `50%` increase in the initial investment."
   ]
  },
  {
   "cell_type": "code",
   "execution_count": null,
   "metadata": {},
   "outputs": [],
   "source": [
    "# Set initial investment\n",
    "initial_investment_inc = 20000 * 1.5\n",
    "\n",
    "# Use the lower and upper `95%` confidence intervals to calculate the range of the possible outcomes of our $30,000\n",
    "ci_lower = round(MC_agg_spy_summary[8] * initial_investment_inc, 2)\n",
    "ci_upper = round(MC_agg_spy_summary[9] * initial_investment_inc, 2)\n",
    "\n",
    "# Print results\n",
    "print(f\"There is a 95% chance that an initial investment of ${initial_investment_inc} in the portfolio\"\n",
    "      f\" over the next 30 years will end within the range of ${ci_lower} and ${ci_upper}\")"
   ]
  },
  {
   "cell_type": "markdown",
   "metadata": {},
   "source": [
    "## Optional Challenge - Early Retirement\n",
    "\n",
    "\n",
    "### Five Years Retirement Option"
   ]
  },
  {
   "cell_type": "code",
   "execution_count": null,
   "metadata": {},
   "outputs": [],
   "source": [
    "# Configuring a Monte Carlo simulation to forecast 5 years cumulative returns\n",
    "own_tickers_5y = ['CSL', 'ELD', 'IVV']\n",
    "\n",
    "start_date_own_5y = pd.Timestamp('2015-01-01', tz='America/New_York').isoformat()\n",
    "end_date_own_5y = pd.Timestamp('2021-01-01', tz='America/New_York').isoformat()\n",
    "\n",
    "own_5y_df = api.get_barset(own_tickers_5y, timeframe='1D', start=start_date_own_5y, end=end_date_own_5y).df\n",
    "\n",
    "#own_5y_df.isna().sum()\n",
    "#own_5y_df.isnull().sum()\n",
    "\n",
    "own_5y_df.dropna(inplace=True)"
   ]
  },
  {
   "cell_type": "code",
   "execution_count": null,
   "metadata": {},
   "outputs": [],
   "source": [
    "own_5y_MC = MCSimulation(portfolio_data=own_5y_df, weights=[0.4, 0.4, 0.2], num_simulation=500, num_trading_days=5*252)"
   ]
  },
  {
   "cell_type": "code",
   "execution_count": null,
   "metadata": {},
   "outputs": [],
   "source": [
    "# Running a Monte Carlo simulation to forecast 5 years cumulative returns\n",
    "own_5y_MC.calc_cumulative_return()"
   ]
  },
  {
   "cell_type": "code",
   "execution_count": null,
   "metadata": {},
   "outputs": [],
   "source": [
    "# Plot simulation outcomes\n",
    "own_5y_MC_line = own_5y_MC.plot_simulation()\n",
    "\n",
    "own_5y_MC_line.get_figure().savefig('own_5y_df_simplot.png', bbox_inches='tight')"
   ]
  },
  {
   "cell_type": "code",
   "execution_count": null,
   "metadata": {},
   "outputs": [],
   "source": [
    "# Plot probability distribution and confidence intervals\n",
    "own_5y_mc_dist = own_5y_MC.plot_distribution()\n",
    "\n",
    "own_5y_mc_dist.get_figure().savefig('own_5y_df_distplot.png', bbox_inches='tight')"
   ]
  },
  {
   "cell_type": "code",
   "execution_count": null,
   "metadata": {},
   "outputs": [],
   "source": [
    "# Fetch summary statistics from the Monte Carlo simulation results\n",
    "own_5y_df_summary = own_5y_MC.summarize_cumulative_return()\n",
    "\n",
    "# Print summary statistics\n",
    "print(own_5y_df_summary)"
   ]
  },
  {
   "cell_type": "code",
   "execution_count": null,
   "metadata": {},
   "outputs": [],
   "source": [
    "# Set initial investment\n",
    "initial_5y_inv_own = 20000\n",
    "\n",
    "# Use the lower and upper `95%` confidence intervals to calculate the range of the possible outcomes of our $60,000\n",
    "ci_lower_five = round(own_5y_df_summary[8] * initial_5y_inv_own, 2)\n",
    "\n",
    "ci_upper_five = round(own_5y_df_summary[9] * initial_5y_inv_own, 2)\n",
    "\n",
    "# Print results\n",
    "print(f\"There is a 95% chance that an initial investment of ${initial_5y_inv_own} in the portfolio\"\n",
    "      f\" over the next 5 years will end within the range of ${ci_lower_five} and ${ci_upper_five}\")"
   ]
  },
  {
   "cell_type": "markdown",
   "metadata": {},
   "source": [
    "### Ten Years Retirement Option"
   ]
  },
  {
   "cell_type": "code",
   "execution_count": null,
   "metadata": {},
   "outputs": [],
   "source": [
    "# Configuring a Monte Carlo simulation to forecast 10 years cumulative returns\n",
    "own_tickers_10y = ['CSL', 'ELD', 'IVV']\n",
    "\n",
    "start_date_own_10y = pd.Timestamp('2015-1-1', tz='America/New_York').isoformat()\n",
    "end_date_own_10y = pd.Timestamp('2021-1-1', tz='America/New_York').isoformat()\n",
    "\n",
    "own_10y_df = api.get_barset(own_tickers_10y, start=start_date_own_10y, end=end_date_own_10y, timeframe='1D').df\n",
    "\n",
    "#own_10y_df.isna().sum()\n",
    "#own_10y_df.isnull().sum()\n",
    "\n",
    "own_10y_df.dropna(inplace=True)"
   ]
  },
  {
   "cell_type": "code",
   "execution_count": null,
   "metadata": {},
   "outputs": [],
   "source": [
    "own_10y_MC = MCSimulation(portfolio_data=own_10y_df, weights=[0.4, 0.4, 0.2], num_simulation=500, num_trading_days=252*10)"
   ]
  },
  {
   "cell_type": "code",
   "execution_count": null,
   "metadata": {},
   "outputs": [],
   "source": [
    "# Running a Monte Carlo simulation to forecast 10 years cumulative returns\n",
    "own_10y_MC.calc_cumulative_return()"
   ]
  },
  {
   "cell_type": "code",
   "execution_count": null,
   "metadata": {},
   "outputs": [],
   "source": [
    "# Plot simulation outcomes\n",
    "own_10y_MC_line = own_10y_MC.plot_simulation()\n",
    "\n",
    "own_10y_MC_line.get_figure().savefig('own_10y_MC_simplot.png', bbox_inches='tight')"
   ]
  },
  {
   "cell_type": "code",
   "execution_count": null,
   "metadata": {},
   "outputs": [],
   "source": [
    "# Plot probability distribution and confidence intervals\n",
    "own_10y_MC_dist = own_10y_MC.plot_distribution()\n",
    "\n",
    "own_10y_MC_dist.get_figure().savefig('own_10y_MC_distplot.png', bbox_inches='tight')"
   ]
  },
  {
   "cell_type": "code",
   "execution_count": null,
   "metadata": {},
   "outputs": [],
   "source": [
    "# Fetch summary statistics from the Monte Carlo simulation results\n",
    "own_10y_MC_summary = own_10y_MC.summarize_cumulative_return()\n",
    "\n",
    "# Print summary statistics\n",
    "print(own_10y_MC_summary)"
   ]
  },
  {
   "cell_type": "code",
   "execution_count": null,
   "metadata": {},
   "outputs": [],
   "source": [
    "# Set initial investment\n",
    "initial_inv_own_10y = 20000\n",
    "\n",
    "# Use the lower and upper `95%` confidence intervals to calculate the range of the possible outcomes of our $60,000\n",
    "ci_lower_10y = round(own_10y_MC_summary[8] * initial_inv_own_10y, 2)\n",
    "ci_upper_10y = round(own_10y_MC_summary[9] * initial_inv_own_10y, 2)\n",
    "\n",
    "# Print results\n",
    "print(f\"There is a 95% chance that an initial investment of ${initial_inv_own_10y} in the portfolio\"\n",
    "      f\" over the next 10 years will end within the range of ${ci_lower_10y} and ${ci_upper_10y}\")"
   ]
  },
  {
   "cell_type": "code",
   "execution_count": null,
   "metadata": {},
   "outputs": [],
   "source": []
  }
 ],
 "metadata": {
  "kernelspec": {
   "display_name": "Python [conda env:alpacaenv]",
   "language": "python",
   "name": "conda-env-alpacaenv-py"
  },
  "language_info": {
   "codemirror_mode": {
    "name": "ipython",
    "version": 3
   },
   "file_extension": ".py",
   "mimetype": "text/x-python",
   "name": "python",
   "nbconvert_exporter": "python",
   "pygments_lexer": "ipython3",
   "version": "3.7.10"
  },
  "nteract": {
   "version": "0.28.0"
  }
 },
 "nbformat": 4,
 "nbformat_minor": 4
}
